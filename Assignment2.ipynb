{
  "nbformat": 4,
  "nbformat_minor": 0,
  "metadata": {
    "colab": {
      "provenance": []
    },
    "kernelspec": {
      "name": "python3",
      "display_name": "Python 3"
    },
    "language_info": {
      "name": "python"
    }
  },
  "cells": [
    {
      "cell_type": "markdown",
      "source": [
        "Question 1:Discuss string slicing and provide examample\n",
        "\n"
      ],
      "metadata": {
        "id": "gc1sQdVAhWYr"
      }
    },
    {
      "cell_type": "markdown",
      "source": [
        "Ans1:In python, you can slice a string using the syntax String[start:end], where start is the index where the slice begins ,and end is the index where the slice ends"
      ],
      "metadata": {
        "id": "ws3DlwaQjLpU"
      }
    },
    {
      "cell_type": "code",
      "source": [
        "str1=\"Hello World\"\n",
        "str1[0:5]"
      ],
      "metadata": {
        "colab": {
          "base_uri": "https://localhost:8080/",
          "height": 36
        },
        "id": "u92UGqxkjP6F",
        "outputId": "5faeed7f-162d-4339-b3e3-0fc2ff0b8398"
      },
      "execution_count": 1,
      "outputs": [
        {
          "output_type": "execute_result",
          "data": {
            "text/plain": [
              "'Hello'"
            ],
            "application/vnd.google.colaboratory.intrinsic+json": {
              "type": "string"
            }
          },
          "metadata": {},
          "execution_count": 1
        }
      ]
    },
    {
      "cell_type": "markdown",
      "source": [
        "\n",
        "Question2: Explain the key features of lists in python.\n"
      ],
      "metadata": {
        "id": "qzRtgy7RjgFM"
      }
    },
    {
      "cell_type": "markdown",
      "source": [
        "Ans2: List is mutable and list can store heterogeneous data.\n",
        "           List is an ordered collection of element that can store any type of data\n"
      ],
      "metadata": {
        "id": "OjPEH9VTj_vk"
      }
    },
    {
      "cell_type": "code",
      "source": [
        "shopping_list=['apple',1,2.2,True,3+6j]\n",
        "shopping_list.append('mango')\n",
        "shopping_list"
      ],
      "metadata": {
        "colab": {
          "base_uri": "https://localhost:8080/"
        },
        "id": "IdiQs3DukBvg",
        "outputId": "7a741817-565a-412e-f4d5-d55bd2b81922"
      },
      "execution_count": 5,
      "outputs": [
        {
          "output_type": "execute_result",
          "data": {
            "text/plain": [
              "['apple', 1, 2.2, True, (3+6j), 'mango']"
            ]
          },
          "metadata": {},
          "execution_count": 5
        }
      ]
    },
    {
      "cell_type": "code",
      "source": [
        "# extend->used to append element from another list\n",
        "my_list=['apple','mango','kiwi']\n",
        "brother_list=['potato','tomato','chilli']\n",
        "my_list.extend(brother_list)\n",
        "my_list"
      ],
      "metadata": {
        "colab": {
          "base_uri": "https://localhost:8080/"
        },
        "id": "hRh1P9_HkPL-",
        "outputId": "9130dc4c-4c18-4cd3-ed2c-3715c29adca4"
      },
      "execution_count": 7,
      "outputs": [
        {
          "output_type": "execute_result",
          "data": {
            "text/plain": [
              "['apple', 'mango', 'kiwi', 'potato', 'tomato', 'chilli']"
            ]
          },
          "metadata": {},
          "execution_count": 7
        }
      ]
    },
    {
      "cell_type": "code",
      "source": [
        "# concatenate list-> we can concatenate list using + operator\n",
        "\n",
        "my_list + brother_list"
      ],
      "metadata": {
        "colab": {
          "base_uri": "https://localhost:8080/"
        },
        "id": "Nmq6AKpblYAH",
        "outputId": "35839ecf-7127-4717-ecca-d6f59e713d29"
      },
      "execution_count": 12,
      "outputs": [
        {
          "output_type": "execute_result",
          "data": {
            "text/plain": [
              "['apple',\n",
              " 'mango',\n",
              " 'kiwi',\n",
              " 'potato',\n",
              " 'tomato',\n",
              " 'chilli',\n",
              " 'potato',\n",
              " 'tomato',\n",
              " 'chilli']"
            ]
          },
          "metadata": {},
          "execution_count": 12
        }
      ]
    },
    {
      "cell_type": "markdown",
      "source": [
        "Question3:  Describe how to access ,modify and delete element in a list with example.\n"
      ],
      "metadata": {
        "id": "-kole8BOmHf7"
      }
    },
    {
      "cell_type": "markdown",
      "source": [
        "Ans3: Access element-> you can access element in a list using indexing. Lists  are zero-indexed meaning the first element is at index 0."
      ],
      "metadata": {
        "id": "S6k11UtkmWlp"
      }
    },
    {
      "cell_type": "code",
      "source": [
        "# access element\n",
        "\n",
        "my_list=[10,20,30,40,50,60,70,80,90]\n",
        "my_list[0]"
      ],
      "metadata": {
        "colab": {
          "base_uri": "https://localhost:8080/"
        },
        "id": "mH6AZDXynLAB",
        "outputId": "11c6f910-b361-4f61-85cd-4619134d290d"
      },
      "execution_count": 13,
      "outputs": [
        {
          "output_type": "execute_result",
          "data": {
            "text/plain": [
              "10"
            ]
          },
          "metadata": {},
          "execution_count": 13
        }
      ]
    },
    {
      "cell_type": "code",
      "source": [
        "my_list[-1] # last element"
      ],
      "metadata": {
        "colab": {
          "base_uri": "https://localhost:8080/"
        },
        "id": "u_C4r5BMnbbr",
        "outputId": "d852a9d0-8a38-451e-b61d-7927354b925f"
      },
      "execution_count": 14,
      "outputs": [
        {
          "output_type": "execute_result",
          "data": {
            "text/plain": [
              "90"
            ]
          },
          "metadata": {},
          "execution_count": 14
        }
      ]
    },
    {
      "cell_type": "code",
      "source": [
        "my_list[1:5]"
      ],
      "metadata": {
        "colab": {
          "base_uri": "https://localhost:8080/"
        },
        "id": "hYAfxVZqnmkx",
        "outputId": "0bc438f0-f9a2-4a92-a2a1-ee51547fd621"
      },
      "execution_count": 15,
      "outputs": [
        {
          "output_type": "execute_result",
          "data": {
            "text/plain": [
              "[20, 30, 40, 50]"
            ]
          },
          "metadata": {},
          "execution_count": 15
        }
      ]
    },
    {
      "cell_type": "code",
      "source": [
        "# modifiy element in a list\n",
        "my_list[1]=9\n",
        "my_list"
      ],
      "metadata": {
        "colab": {
          "base_uri": "https://localhost:8080/"
        },
        "id": "PTmxChGqnrGx",
        "outputId": "2a99f248-8a09-4fab-8e96-962f9b29a9b8"
      },
      "execution_count": 17,
      "outputs": [
        {
          "output_type": "execute_result",
          "data": {
            "text/plain": [
              "[10, 9, 30, 40, 50, 60, 70, 80, 90]"
            ]
          },
          "metadata": {},
          "execution_count": 17
        }
      ]
    },
    {
      "cell_type": "code",
      "source": [
        "my_list[2:4]=[45,55]\n",
        "my_list"
      ],
      "metadata": {
        "colab": {
          "base_uri": "https://localhost:8080/"
        },
        "id": "o8Mt_K43oCfx",
        "outputId": "c75446c9-780f-499d-fa67-4ec435227246"
      },
      "execution_count": 19,
      "outputs": [
        {
          "output_type": "execute_result",
          "data": {
            "text/plain": [
              "[10, 9, 45, 55, 50, 60, 70, 80, 90]"
            ]
          },
          "metadata": {},
          "execution_count": 19
        }
      ]
    },
    {
      "cell_type": "code",
      "source": [
        "# delete element in a list\n",
        "\n",
        "#1.using remove method\n",
        "my_list.remove(10)\n",
        "my_list"
      ],
      "metadata": {
        "colab": {
          "base_uri": "https://localhost:8080/"
        },
        "id": "z6fPwEl8oPOJ",
        "outputId": "5d688758-da3d-4a9a-f10e-26c930b6f358"
      },
      "execution_count": 20,
      "outputs": [
        {
          "output_type": "execute_result",
          "data": {
            "text/plain": [
              "[9, 45, 55, 50, 60, 70, 80, 90]"
            ]
          },
          "metadata": {},
          "execution_count": 20
        }
      ]
    },
    {
      "cell_type": "code",
      "source": [
        "# using pop method\n",
        "\n",
        "my_list.pop(1)\n",
        "my_list"
      ],
      "metadata": {
        "colab": {
          "base_uri": "https://localhost:8080/"
        },
        "id": "a9J97JSCoqZY",
        "outputId": "b13335d1-a53b-4c79-a723-30dd74e1bb9e"
      },
      "execution_count": 22,
      "outputs": [
        {
          "output_type": "execute_result",
          "data": {
            "text/plain": [
              "[9, 55, 50, 60, 70, 80, 90]"
            ]
          },
          "metadata": {},
          "execution_count": 22
        }
      ]
    },
    {
      "cell_type": "code",
      "source": [
        "# using del method\n",
        "my_list=[10,20,30,40,50,60,70,80,90]\n",
        "\n",
        "del my_list[0:5]\n",
        "my_list\n",
        "\n"
      ],
      "metadata": {
        "colab": {
          "base_uri": "https://localhost:8080/"
        },
        "id": "YHUHGOUmo4mA",
        "outputId": "d0d08730-78e4-476b-d360-111bc3435b69"
      },
      "execution_count": 25,
      "outputs": [
        {
          "output_type": "execute_result",
          "data": {
            "text/plain": [
              "[60, 70, 80, 90]"
            ]
          },
          "metadata": {},
          "execution_count": 25
        }
      ]
    },
    {
      "cell_type": "markdown",
      "source": [
        "Question 4:  Compare and contrast tu:ples and lists with example\n",
        "\n",
        "\n"
      ],
      "metadata": {
        "id": "MwN9a1IApkOv"
      }
    },
    {
      "cell_type": "markdown",
      "source": [
        "Ans 4: Tuple-->> Tuple are similar to list in terms of slicing and accessing element, but  they are immutable (cannot be changed )\n",
        "\n",
        "tuple are written in ()"
      ],
      "metadata": {
        "id": "endjNtQTqF8x"
      }
    },
    {
      "cell_type": "code",
      "source": [
        "my_tuple=(10,20,30,40,50,60,70,80,90)\n",
        "\n",
        "# acces the element\n",
        "print(my_tuple[0])"
      ],
      "metadata": {
        "colab": {
          "base_uri": "https://localhost:8080/"
        },
        "id": "xplCRdOZq4GX",
        "outputId": "e8ce794d-3523-4126-da6f-26fb8f666daa"
      },
      "execution_count": 29,
      "outputs": [
        {
          "output_type": "stream",
          "name": "stdout",
          "text": [
            "10\n"
          ]
        }
      ]
    },
    {
      "cell_type": "code",
      "source": [
        "# access the range of element\n",
        "print(my_tuple[0:4])"
      ],
      "metadata": {
        "colab": {
          "base_uri": "https://localhost:8080/"
        },
        "id": "rlutff6JrHAH",
        "outputId": "3595a8b8-71df-42db-b6ec-ab0f6648162e"
      },
      "execution_count": 30,
      "outputs": [
        {
          "output_type": "stream",
          "name": "stdout",
          "text": [
            "(10, 20, 30, 40)\n"
          ]
        }
      ]
    },
    {
      "cell_type": "code",
      "source": [
        "for i in my_tuple:\n",
        "  print(i)"
      ],
      "metadata": {
        "colab": {
          "base_uri": "https://localhost:8080/"
        },
        "id": "wGkvPCFXrjXv",
        "outputId": "5bf5fe0e-3ca7-4982-d4e0-d0fe63f31f42"
      },
      "execution_count": 31,
      "outputs": [
        {
          "output_type": "stream",
          "name": "stdout",
          "text": [
            "10\n",
            "20\n",
            "30\n",
            "40\n",
            "50\n",
            "60\n",
            "70\n",
            "80\n",
            "90\n"
          ]
        }
      ]
    },
    {
      "cell_type": "markdown",
      "source": [
        "List-->> List is mutable means we can modify elements\n",
        "        list are written in []\n",
        "        list is a ordered collection of element that can be of any datatype"
      ],
      "metadata": {
        "id": "jybQXzOfs4Z6"
      }
    },
    {
      "cell_type": "code",
      "source": [
        "# modify list\n",
        "\n",
        "my_lis=[10,20,30,40,50,60,70,80,90]\n",
        "my_lis[0]='apple'\n",
        "my_lis\n"
      ],
      "metadata": {
        "colab": {
          "base_uri": "https://localhost:8080/"
        },
        "id": "UnM7uVLltSNF",
        "outputId": "e454187b-b8ce-455c-f312-ab8363ecd439"
      },
      "execution_count": 33,
      "outputs": [
        {
          "output_type": "execute_result",
          "data": {
            "text/plain": [
              "['apple', 20, 30, 40, 50, 60, 70, 80, 90]"
            ]
          },
          "metadata": {},
          "execution_count": 33
        }
      ]
    },
    {
      "cell_type": "markdown",
      "source": [
        "Question 5:Describe the key features of sets and provide examples of their  uses."
      ],
      "metadata": {
        "id": "AC_2kfeItpvN"
      }
    },
    {
      "cell_type": "markdown",
      "source": [
        "Ans 5:sets--> sets is a unordered and unique collection of element\n",
        "              in sets it does not allow duplicate element\n",
        "              unordered-> indexing will not work"
      ],
      "metadata": {
        "id": "VjSlXkoMuLPX"
      }
    },
    {
      "cell_type": "code",
      "source": [
        "s={1}\n",
        "type(s)"
      ],
      "metadata": {
        "colab": {
          "base_uri": "https://localhost:8080/"
        },
        "id": "5ipTC6U4uyNL",
        "outputId": "da39f4bd-af35-4ff4-ca7d-acb43550feea"
      },
      "execution_count": 35,
      "outputs": [
        {
          "output_type": "execute_result",
          "data": {
            "text/plain": [
              "set"
            ]
          },
          "metadata": {},
          "execution_count": 35
        }
      ]
    },
    {
      "cell_type": "code",
      "source": [
        "s={1,2,3,1,2,1,\"Ajay\",\"mohan\",\"Ram\",\"Ram\"}\n",
        "type(s)\n"
      ],
      "metadata": {
        "colab": {
          "base_uri": "https://localhost:8080/"
        },
        "id": "N5Jf-K9bu5-8",
        "outputId": "198e28fc-0d6a-4311-a17d-d8eb5216caa5"
      },
      "execution_count": 38,
      "outputs": [
        {
          "output_type": "execute_result",
          "data": {
            "text/plain": [
              "set"
            ]
          },
          "metadata": {},
          "execution_count": 38
        }
      ]
    },
    {
      "cell_type": "code",
      "source": [
        "s # only unique vale allow"
      ],
      "metadata": {
        "colab": {
          "base_uri": "https://localhost:8080/"
        },
        "id": "ZVVHq-gBvJYj",
        "outputId": "c2bc3d85-ca85-4bad-e2c9-a680eeaa2fd4"
      },
      "execution_count": 39,
      "outputs": [
        {
          "output_type": "execute_result",
          "data": {
            "text/plain": [
              "{1, 2, 3, 'Ajay', 'Ram', 'mohan'}"
            ]
          },
          "metadata": {},
          "execution_count": 39
        }
      ]
    },
    {
      "cell_type": "code",
      "source": [
        "# adding in sets\n",
        "\n",
        "s1={1,2,3,4}\n",
        "s1.add(100)\n",
        "s1"
      ],
      "metadata": {
        "colab": {
          "base_uri": "https://localhost:8080/"
        },
        "id": "3Cj1KmRNvRmj",
        "outputId": "d1f20e07-ba83-4fa0-bcde-9a61dc3b3d59"
      },
      "execution_count": 43,
      "outputs": [
        {
          "output_type": "execute_result",
          "data": {
            "text/plain": [
              "{1, 2, 3, 4, 100}"
            ]
          },
          "metadata": {},
          "execution_count": 43
        }
      ]
    },
    {
      "cell_type": "code",
      "source": [
        "# pop method in sets\n",
        "\n",
        "s2={1,2,3,4,5}\n",
        "s2.pop()  # it pop random element"
      ],
      "metadata": {
        "colab": {
          "base_uri": "https://localhost:8080/"
        },
        "id": "FLijzc4Kvns7",
        "outputId": "cdec8130-f8cd-495f-e83c-1430bfe2e8b1"
      },
      "execution_count": 48,
      "outputs": [
        {
          "output_type": "execute_result",
          "data": {
            "text/plain": [
              "1"
            ]
          },
          "metadata": {},
          "execution_count": 48
        }
      ]
    },
    {
      "cell_type": "code",
      "source": [
        "# remove method\n",
        "\n",
        "s3={1,2,3,4,5}\n",
        "s3.remove(5)\n",
        "s3"
      ],
      "metadata": {
        "colab": {
          "base_uri": "https://localhost:8080/"
        },
        "id": "IXdRCpBHv1-D",
        "outputId": "5326ba7e-ca6c-49f3-b82f-de27862b6bbc"
      },
      "execution_count": 53,
      "outputs": [
        {
          "output_type": "execute_result",
          "data": {
            "text/plain": [
              "{1, 2, 3, 4}"
            ]
          },
          "metadata": {},
          "execution_count": 53
        }
      ]
    },
    {
      "cell_type": "code",
      "source": [
        "s4={'apple','mango',1,2,3,45,90}\n",
        "s4.update('mango')\n",
        "s4"
      ],
      "metadata": {
        "colab": {
          "base_uri": "https://localhost:8080/"
        },
        "id": "19k44QPbwqoK",
        "outputId": "bb051869-6cff-4e56-d207-6c695f7bb2bf"
      },
      "execution_count": 58,
      "outputs": [
        {
          "output_type": "execute_result",
          "data": {
            "text/plain": [
              "{1, 2, 3, 45, 90, 'a', 'apple', 'g', 'm', 'mango', 'n', 'o'}"
            ]
          },
          "metadata": {},
          "execution_count": 58
        }
      ]
    },
    {
      "cell_type": "code",
      "source": [
        "s4.update(['mango'])\n",
        "s4"
      ],
      "metadata": {
        "colab": {
          "base_uri": "https://localhost:8080/"
        },
        "id": "_BscGoLP8PlH",
        "outputId": "65f8ba5a-b55c-4b75-c01d-74ef5fa27a43"
      },
      "execution_count": 57,
      "outputs": [
        {
          "output_type": "execute_result",
          "data": {
            "text/plain": [
              "{1, 2, 3, 45, 90, 'a', 'apple', 'g', 'm', 'mango', 'n', 'o'}"
            ]
          },
          "metadata": {},
          "execution_count": 57
        }
      ]
    },
    {
      "cell_type": "code",
      "source": [
        "# discard\n",
        "\n",
        "s4.discard('apple')\n",
        "s4"
      ],
      "metadata": {
        "colab": {
          "base_uri": "https://localhost:8080/"
        },
        "id": "2nwPrLdy8d8U",
        "outputId": "849118ea-066a-4bf1-ab69-2d8481006ff6"
      },
      "execution_count": 59,
      "outputs": [
        {
          "output_type": "execute_result",
          "data": {
            "text/plain": [
              "{1, 2, 3, 45, 90, 'a', 'g', 'm', 'mango', 'n', 'o'}"
            ]
          },
          "metadata": {},
          "execution_count": 59
        }
      ]
    },
    {
      "cell_type": "markdown",
      "source": [
        "Question 6:Discuss the use case of tuple and sets in python programming."
      ],
      "metadata": {
        "id": "AIDzIyZI9QbH"
      }
    },
    {
      "cell_type": "markdown",
      "source": [
        "Ans: use case of tuple:\n",
        "\n",
        "1.immutability: Tuple are immutable,meaning their contents cannot be changed after creation.\n",
        "\n",
        "2. Dictionary Keys: Tuples can be used as keys in dictionaries due to their immutability\n",
        "Ex: tuple can store multi-part keys:\n",
        "\n",
        "student_scores={('john','math'):90}\n",
        "\n",
        "\n",
        "=>use case of sets\n",
        "\n",
        "1.Uniqueness: Sets automatically eliminate duplicate elements\n",
        "\n",
        "2.Membership Testing:Sets support mathmatical operation such as union,intersection and difference"
      ],
      "metadata": {
        "id": "FUsLwwfl9oMe"
      }
    },
    {
      "cell_type": "code",
      "source": [
        "# sets use case\n",
        "\n",
        "#1.uniqueness\n",
        "\n",
        "set_1={1,2,3,1,4,\"apple\",\"apple\"}\n",
        "set_1"
      ],
      "metadata": {
        "colab": {
          "base_uri": "https://localhost:8080/"
        },
        "id": "hYd6XgrJAH35",
        "outputId": "d950482c-0761-4971-87b0-0116b1c56c2d"
      },
      "execution_count": 60,
      "outputs": [
        {
          "output_type": "execute_result",
          "data": {
            "text/plain": [
              "{1, 2, 3, 4, 'apple'}"
            ]
          },
          "metadata": {},
          "execution_count": 60
        }
      ]
    },
    {
      "cell_type": "code",
      "source": [
        "#2.Membership Testing\n",
        "#union\n",
        "set1={'hiking','reading','coding'}\n",
        "set2={'coding','photography','drawing'}\n",
        "set1|set2"
      ],
      "metadata": {
        "colab": {
          "base_uri": "https://localhost:8080/"
        },
        "id": "3-ra7ZHMAa9x",
        "outputId": "3126c98c-0f78-404e-e43b-74b4b6599005"
      },
      "execution_count": 63,
      "outputs": [
        {
          "output_type": "execute_result",
          "data": {
            "text/plain": [
              "{'coding', 'drawing', 'hiking', 'photography', 'reading'}"
            ]
          },
          "metadata": {},
          "execution_count": 63
        }
      ]
    },
    {
      "cell_type": "code",
      "source": [
        "#difference\n",
        "set1-set2"
      ],
      "metadata": {
        "colab": {
          "base_uri": "https://localhost:8080/"
        },
        "id": "Y5gV32Y7BAQ4",
        "outputId": "1007c9e1-bf05-430f-ba11-a1fa0a8870d0"
      },
      "execution_count": 64,
      "outputs": [
        {
          "output_type": "execute_result",
          "data": {
            "text/plain": [
              "{'hiking', 'reading'}"
            ]
          },
          "metadata": {},
          "execution_count": 64
        }
      ]
    },
    {
      "cell_type": "code",
      "source": [
        "#Symmetric difference\n",
        "set1^set2"
      ],
      "metadata": {
        "colab": {
          "base_uri": "https://localhost:8080/"
        },
        "id": "2n0g5rcZBWr4",
        "outputId": "46480f49-a3a9-46fd-f0b3-ef837065eb6e"
      },
      "execution_count": 65,
      "outputs": [
        {
          "output_type": "execute_result",
          "data": {
            "text/plain": [
              "{'drawing', 'hiking', 'photography', 'reading'}"
            ]
          },
          "metadata": {},
          "execution_count": 65
        }
      ]
    },
    {
      "cell_type": "markdown",
      "source": [
        "Question7:Describe how to add, modifiy,delete itemns in dictionary with example."
      ],
      "metadata": {
        "id": "i9hLlU_GBh22"
      }
    },
    {
      "cell_type": "code",
      "source": [
        "d={\"name\":\"Ajay\",\"email\":\"a@gamil.com\",\"contact\":1234}\n",
        "d"
      ],
      "metadata": {
        "colab": {
          "base_uri": "https://localhost:8080/"
        },
        "id": "rqkCt0y5B6D3",
        "outputId": "5eb83b81-768a-4227-f437-50a8a4911ac6"
      },
      "execution_count": 66,
      "outputs": [
        {
          "output_type": "execute_result",
          "data": {
            "text/plain": [
              "{'name': 'Ajay', 'email': 'a@gamil.com', 'contact': 1234}"
            ]
          },
          "metadata": {},
          "execution_count": 66
        }
      ]
    },
    {
      "cell_type": "code",
      "source": [
        "# add element in dictionary\n",
        "# using update() method\n",
        "d={\"name\":\"Ram\"}\n",
        "d.update({'age':25,\"city\":\"up\"})\n",
        "d"
      ],
      "metadata": {
        "colab": {
          "base_uri": "https://localhost:8080/"
        },
        "id": "I6UfYO3kCS2h",
        "outputId": "1811a19b-2263-444e-f51f-585483c25099"
      },
      "execution_count": 69,
      "outputs": [
        {
          "output_type": "execute_result",
          "data": {
            "text/plain": [
              "{'name': 'Ram', 'age': 25, 'city': 'up'}"
            ]
          },
          "metadata": {},
          "execution_count": 69
        }
      ]
    },
    {
      "cell_type": "code",
      "source": [
        "# add element using assignment\n",
        "my_dict={}\n",
        "my_dict[\"name\"]=\"Ram\"\n",
        "my_dict[\"age\"]=25\n",
        "my_dict[\"city\"]=\"up\"\n",
        "print(my_dict)"
      ],
      "metadata": {
        "colab": {
          "base_uri": "https://localhost:8080/"
        },
        "id": "-M6KD9O4DGJv",
        "outputId": "8615cfe7-d724-43ed-a502-4dc3c8cacec9"
      },
      "execution_count": 71,
      "outputs": [
        {
          "output_type": "stream",
          "name": "stdout",
          "text": [
            "{'name': 'Ram', 'age': 25, 'city': 'up'}\n"
          ]
        }
      ]
    },
    {
      "cell_type": "code",
      "source": [
        "# modify element in dictionary\n",
        "\n",
        "my_dict[\"name\"]=\"Shyam\"\n",
        "my_dict"
      ],
      "metadata": {
        "colab": {
          "base_uri": "https://localhost:8080/"
        },
        "id": "VZqkQgC4DvbO",
        "outputId": "f1298c47-ffe5-4d11-a65d-2f881b875fbe"
      },
      "execution_count": 72,
      "outputs": [
        {
          "output_type": "execute_result",
          "data": {
            "text/plain": [
              "{'name': 'Shyam', 'age': 25, 'city': 'up'}"
            ]
          },
          "metadata": {},
          "execution_count": 72
        }
      ]
    },
    {
      "cell_type": "code",
      "source": [
        "# delete element in dictionary\n",
        "\n"
      ],
      "metadata": {
        "colab": {
          "base_uri": "https://localhost:8080/"
        },
        "id": "J0Yrn3HrEQg2",
        "outputId": "a2d20da5-ba35-46e5-fa76-3998387c584e"
      },
      "execution_count": 74,
      "outputs": [
        {
          "output_type": "execute_result",
          "data": {
            "text/plain": [
              "{'name': 'Shyam', 'age': 25, 'city': 'up'}"
            ]
          },
          "metadata": {},
          "execution_count": 74
        }
      ]
    },
    {
      "cell_type": "code",
      "source": [],
      "metadata": {
        "colab": {
          "base_uri": "https://localhost:8080/"
        },
        "id": "mqxY8EWCEd4V",
        "outputId": "a6e254d9-2674-4ebb-e1f4-f520a78829fd"
      },
      "execution_count": 78,
      "outputs": [
        {
          "output_type": "execute_result",
          "data": {
            "text/plain": [
              "{'age': 25}"
            ]
          },
          "metadata": {},
          "execution_count": 78
        }
      ]
    },
    {
      "cell_type": "code",
      "source": [
        "# delete using del keyword\n",
        "d={\"name\":\"Ajay\",\"email\":\"a@gamil.com\",\"contact\":1234}\n",
        "del d[\"email\"]  # to delete a key\n",
        "d\n",
        "\n"
      ],
      "metadata": {
        "colab": {
          "base_uri": "https://localhost:8080/"
        },
        "id": "G4uPESQoEvxF",
        "outputId": "592efc9c-3831-4702-f05d-31c31c2cec6e"
      },
      "execution_count": 79,
      "outputs": [
        {
          "output_type": "execute_result",
          "data": {
            "text/plain": [
              "{'name': 'Ajay', 'contact': 1234}"
            ]
          },
          "metadata": {},
          "execution_count": 79
        }
      ]
    },
    {
      "cell_type": "code",
      "source": [
        "# delete whole dictionary\n",
        "\n",
        "d.clear()\n",
        "d"
      ],
      "metadata": {
        "colab": {
          "base_uri": "https://localhost:8080/"
        },
        "id": "ZA22uig1Fb8d",
        "outputId": "8102891f-a4ce-4fa0-fb88-1795fa8acdf6"
      },
      "execution_count": 81,
      "outputs": [
        {
          "output_type": "execute_result",
          "data": {
            "text/plain": [
              "{}"
            ]
          },
          "metadata": {},
          "execution_count": 81
        }
      ]
    },
    {
      "cell_type": "markdown",
      "source": [
        "Question 8:Discuss the importance of dictionary keys being immutable and provide example"
      ],
      "metadata": {
        "id": "ZSbVGjwuF1kI"
      }
    },
    {
      "cell_type": "markdown",
      "source": [
        "Ans 8: Dictionary is a data structure that stores data as key value pair\n",
        "      Importance of immutable keys\n",
        "\n",
        " Consistency and Reliability: immutable keys ensure hat t6he key-value pairs remain stable .if keys could  chnage it would be impossible to gurantee consistent access to the values associated with those keys"
      ],
      "metadata": {
        "id": "PnU-4UE9I1BO"
      }
    },
    {
      "cell_type": "code",
      "source": [
        "# Immutable key (tuple)\n",
        "\n",
        "my_dict1={('a',1):\"value1\"} # Tuple  as key words as fine\n",
        "print(my_dict1[('a',1)])"
      ],
      "metadata": {
        "colab": {
          "base_uri": "https://localhost:8080/"
        },
        "id": "tM4Xb75jI5QS",
        "outputId": "a1aa7e42-c861-45ce-9a85-426b75c4ff05"
      },
      "execution_count": 87,
      "outputs": [
        {
          "output_type": "stream",
          "name": "stdout",
          "text": [
            "value1\n"
          ]
        }
      ]
    },
    {
      "cell_type": "code",
      "source": [
        "# mutable key (list)\n",
        "my_dict={[1,2]:\"value2\"}  # List as key will raise an error"
      ],
      "metadata": {
        "id": "cazt9D3ELBRZ"
      },
      "execution_count": null,
      "outputs": []
    }
  ]
}